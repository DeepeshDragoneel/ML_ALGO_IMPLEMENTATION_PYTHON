{
  "nbformat": 4,
  "nbformat_minor": 0,
  "metadata": {
    "colab": {
      "name": "Logistic Regression Coursera.ipynb",
      "provenance": []
    },
    "kernelspec": {
      "name": "python3",
      "display_name": "Python 3"
    },
    "language_info": {
      "name": "python"
    }
  },
  "cells": [
    {
      "cell_type": "markdown",
      "source": [
        "#Logistic Regression"
      ],
      "metadata": {
        "id": "UQInCKG_2Xtl"
      }
    },
    {
      "cell_type": "code",
      "execution_count": 3,
      "metadata": {
        "id": "JNxTsZxxz5A5"
      },
      "outputs": [],
      "source": [
        "import numpy as np\n",
        "import pandas as pd\n",
        "import scipy.optimize as opt\n",
        "import matplotlib.pyplot as plt\n",
        "import utils\n",
        "grader = utils.Grader()\n",
        "%matplotlib inline"
      ]
    },
    {
      "cell_type": "code",
      "source": [
        ""
      ],
      "metadata": {
        "id": "nugjOPXrP4iG"
      },
      "execution_count": null,
      "outputs": []
    },
    {
      "cell_type": "code",
      "source": [
        "df = pd.read_csv(\"ex2data1.txt\", names=[\"score1\", \"score2\", \"admitted\"])\n",
        "df.head(5)"
      ],
      "metadata": {
        "colab": {
          "base_uri": "https://localhost:8080/",
          "height": 204
        },
        "id": "Kn-hFgvO2rRb",
        "outputId": "7cc0441d-07b8-42f5-ec4f-b30ba88907b9"
      },
      "execution_count": 4,
      "outputs": [
        {
          "output_type": "execute_result",
          "data": {
            "text/html": [
              "\n",
              "  <div id=\"df-1ccf9913-f1c6-4786-8bd7-4825c3499788\">\n",
              "    <div class=\"colab-df-container\">\n",
              "      <div>\n",
              "<style scoped>\n",
              "    .dataframe tbody tr th:only-of-type {\n",
              "        vertical-align: middle;\n",
              "    }\n",
              "\n",
              "    .dataframe tbody tr th {\n",
              "        vertical-align: top;\n",
              "    }\n",
              "\n",
              "    .dataframe thead th {\n",
              "        text-align: right;\n",
              "    }\n",
              "</style>\n",
              "<table border=\"1\" class=\"dataframe\">\n",
              "  <thead>\n",
              "    <tr style=\"text-align: right;\">\n",
              "      <th></th>\n",
              "      <th>score1</th>\n",
              "      <th>score2</th>\n",
              "      <th>admitted</th>\n",
              "    </tr>\n",
              "  </thead>\n",
              "  <tbody>\n",
              "    <tr>\n",
              "      <th>0</th>\n",
              "      <td>34.623660</td>\n",
              "      <td>78.024693</td>\n",
              "      <td>0</td>\n",
              "    </tr>\n",
              "    <tr>\n",
              "      <th>1</th>\n",
              "      <td>30.286711</td>\n",
              "      <td>43.894998</td>\n",
              "      <td>0</td>\n",
              "    </tr>\n",
              "    <tr>\n",
              "      <th>2</th>\n",
              "      <td>35.847409</td>\n",
              "      <td>72.902198</td>\n",
              "      <td>0</td>\n",
              "    </tr>\n",
              "    <tr>\n",
              "      <th>3</th>\n",
              "      <td>60.182599</td>\n",
              "      <td>86.308552</td>\n",
              "      <td>1</td>\n",
              "    </tr>\n",
              "    <tr>\n",
              "      <th>4</th>\n",
              "      <td>79.032736</td>\n",
              "      <td>75.344376</td>\n",
              "      <td>1</td>\n",
              "    </tr>\n",
              "  </tbody>\n",
              "</table>\n",
              "</div>\n",
              "      <button class=\"colab-df-convert\" onclick=\"convertToInteractive('df-1ccf9913-f1c6-4786-8bd7-4825c3499788')\"\n",
              "              title=\"Convert this dataframe to an interactive table.\"\n",
              "              style=\"display:none;\">\n",
              "        \n",
              "  <svg xmlns=\"http://www.w3.org/2000/svg\" height=\"24px\"viewBox=\"0 0 24 24\"\n",
              "       width=\"24px\">\n",
              "    <path d=\"M0 0h24v24H0V0z\" fill=\"none\"/>\n",
              "    <path d=\"M18.56 5.44l.94 2.06.94-2.06 2.06-.94-2.06-.94-.94-2.06-.94 2.06-2.06.94zm-11 1L8.5 8.5l.94-2.06 2.06-.94-2.06-.94L8.5 2.5l-.94 2.06-2.06.94zm10 10l.94 2.06.94-2.06 2.06-.94-2.06-.94-.94-2.06-.94 2.06-2.06.94z\"/><path d=\"M17.41 7.96l-1.37-1.37c-.4-.4-.92-.59-1.43-.59-.52 0-1.04.2-1.43.59L10.3 9.45l-7.72 7.72c-.78.78-.78 2.05 0 2.83L4 21.41c.39.39.9.59 1.41.59.51 0 1.02-.2 1.41-.59l7.78-7.78 2.81-2.81c.8-.78.8-2.07 0-2.86zM5.41 20L4 18.59l7.72-7.72 1.47 1.35L5.41 20z\"/>\n",
              "  </svg>\n",
              "      </button>\n",
              "      \n",
              "  <style>\n",
              "    .colab-df-container {\n",
              "      display:flex;\n",
              "      flex-wrap:wrap;\n",
              "      gap: 12px;\n",
              "    }\n",
              "\n",
              "    .colab-df-convert {\n",
              "      background-color: #E8F0FE;\n",
              "      border: none;\n",
              "      border-radius: 50%;\n",
              "      cursor: pointer;\n",
              "      display: none;\n",
              "      fill: #1967D2;\n",
              "      height: 32px;\n",
              "      padding: 0 0 0 0;\n",
              "      width: 32px;\n",
              "    }\n",
              "\n",
              "    .colab-df-convert:hover {\n",
              "      background-color: #E2EBFA;\n",
              "      box-shadow: 0px 1px 2px rgba(60, 64, 67, 0.3), 0px 1px 3px 1px rgba(60, 64, 67, 0.15);\n",
              "      fill: #174EA6;\n",
              "    }\n",
              "\n",
              "    [theme=dark] .colab-df-convert {\n",
              "      background-color: #3B4455;\n",
              "      fill: #D2E3FC;\n",
              "    }\n",
              "\n",
              "    [theme=dark] .colab-df-convert:hover {\n",
              "      background-color: #434B5C;\n",
              "      box-shadow: 0px 1px 3px 1px rgba(0, 0, 0, 0.15);\n",
              "      filter: drop-shadow(0px 1px 2px rgba(0, 0, 0, 0.3));\n",
              "      fill: #FFFFFF;\n",
              "    }\n",
              "  </style>\n",
              "\n",
              "      <script>\n",
              "        const buttonEl =\n",
              "          document.querySelector('#df-1ccf9913-f1c6-4786-8bd7-4825c3499788 button.colab-df-convert');\n",
              "        buttonEl.style.display =\n",
              "          google.colab.kernel.accessAllowed ? 'block' : 'none';\n",
              "\n",
              "        async function convertToInteractive(key) {\n",
              "          const element = document.querySelector('#df-1ccf9913-f1c6-4786-8bd7-4825c3499788');\n",
              "          const dataTable =\n",
              "            await google.colab.kernel.invokeFunction('convertToInteractive',\n",
              "                                                     [key], {});\n",
              "          if (!dataTable) return;\n",
              "\n",
              "          const docLinkHtml = 'Like what you see? Visit the ' +\n",
              "            '<a target=\"_blank\" href=https://colab.research.google.com/notebooks/data_table.ipynb>data table notebook</a>'\n",
              "            + ' to learn more about interactive tables.';\n",
              "          element.innerHTML = '';\n",
              "          dataTable['output_type'] = 'display_data';\n",
              "          await google.colab.output.renderOutput(dataTable, element);\n",
              "          const docLink = document.createElement('div');\n",
              "          docLink.innerHTML = docLinkHtml;\n",
              "          element.appendChild(docLink);\n",
              "        }\n",
              "      </script>\n",
              "    </div>\n",
              "  </div>\n",
              "  "
            ],
            "text/plain": [
              "      score1     score2  admitted\n",
              "0  34.623660  78.024693         0\n",
              "1  30.286711  43.894998         0\n",
              "2  35.847409  72.902198         0\n",
              "3  60.182599  86.308552         1\n",
              "4  79.032736  75.344376         1"
            ]
          },
          "metadata": {},
          "execution_count": 4
        }
      ]
    },
    {
      "cell_type": "code",
      "source": [
        "X = df.iloc[:, 0:2]\n",
        "Y = df.iloc[:, 2]\n",
        "print(X.head(5))\n",
        "print(Y.head(5))"
      ],
      "metadata": {
        "colab": {
          "base_uri": "https://localhost:8080/"
        },
        "id": "5n2g4RYB5WhV",
        "outputId": "17bbf246-14a8-4866-acbc-f9553c7b2b1c"
      },
      "execution_count": 5,
      "outputs": [
        {
          "output_type": "stream",
          "name": "stdout",
          "text": [
            "      score1     score2\n",
            "0  34.623660  78.024693\n",
            "1  30.286711  43.894998\n",
            "2  35.847409  72.902198\n",
            "3  60.182599  86.308552\n",
            "4  79.032736  75.344376\n",
            "0    0\n",
            "1    0\n",
            "2    0\n",
            "3    1\n",
            "4    1\n",
            "Name: admitted, dtype: int64\n"
          ]
        }
      ]
    },
    {
      "cell_type": "code",
      "source": [
        "pos = df[\"admitted\"] == 1\n",
        "neg = df[\"admitted\"] == 0\n",
        "print(pos)"
      ],
      "metadata": {
        "colab": {
          "base_uri": "https://localhost:8080/"
        },
        "id": "qQgrUQzB470e",
        "outputId": "a57dcbfe-fd84-44b8-e601-292feef5714e"
      },
      "execution_count": 6,
      "outputs": [
        {
          "output_type": "stream",
          "name": "stdout",
          "text": [
            "0     False\n",
            "1     False\n",
            "2     False\n",
            "3      True\n",
            "4      True\n",
            "      ...  \n",
            "95     True\n",
            "96     True\n",
            "97     True\n",
            "98     True\n",
            "99     True\n",
            "Name: admitted, Length: 100, dtype: bool\n"
          ]
        }
      ]
    },
    {
      "cell_type": "code",
      "source": [
        "fig = plt.figure()\n",
        "axes = fig.add_subplot(111)\n",
        "axes.set_xlabel(\"Exam 1 score\")\n",
        "axes.set_ylabel(\"Exam 2 score\")\n",
        "axes.scatter(X[pos].iloc[:,0], X[pos].iloc[:,1], marker=\"o\", c=\"lime\", label = \"Admitted\")\n",
        "axes.scatter(X[neg].iloc[:,0], X[neg].iloc[:,1], marker=\"x\", c=\"red\", label = \"Not-Admitted\")"
      ],
      "metadata": {
        "colab": {
          "base_uri": "https://localhost:8080/",
          "height": 296
        },
        "id": "NcsaNhPL3Vld",
        "outputId": "779870bb-37a1-4c1d-876c-e57f508077f6"
      },
      "execution_count": 7,
      "outputs": [
        {
          "output_type": "execute_result",
          "data": {
            "text/plain": [
              "<matplotlib.collections.PathCollection at 0x7f9277b73350>"
            ]
          },
          "metadata": {},
          "execution_count": 7
        },
        {
          "output_type": "display_data",
          "data": {
            "image/png": "[encoded data removed]",
            "text/plain": [
              "<Figure size 432x288 with 1 Axes>"
            ]
          },
          "metadata": {
            "needs_background": "light"
          }
        }
      ]
    },
    {
      "cell_type": "code",
      "source": [
        "def sigmoid(z):\n",
        "    z = np.array(z)\n",
        "    g = np.zeros(z.shape)\n",
        "    g = 1 / (1 + np.exp(-z))\n",
        "    return g\n",
        "z = 0\n",
        "g = sigmoid(z)\n",
        "\n",
        "print('g(', z, ') = ', g)"
      ],
      "metadata": {
        "colab": {
          "base_uri": "https://localhost:8080/"
        },
        "id": "IdzxFoCj8NLE",
        "outputId": "297ab4d9-2929-4f75-a618-41fb9848f4f5"
      },
      "execution_count": 8,
      "outputs": [
        {
          "output_type": "stream",
          "name": "stdout",
          "text": [
            "g( 0 ) =  0.5\n"
          ]
        }
      ]
    },
    {
      "cell_type": "code",
      "source": [
        "# appends the implemented function in part 1 to the grader object\n",
        "grader[1] = sigmoid\n",
        "\n",
        "# send the added functions to coursera grader for getting a grade on this part\n",
        "grader.grade()"
      ],
      "metadata": {
        "colab": {
          "base_uri": "https://localhost:8080/"
        },
        "id": "Sf_M_Loh9-Yn",
        "outputId": "3d8c4412-266c-405b-dd67-8b15339cd8b0"
      },
      "execution_count": null,
      "outputs": [
        {
          "output_type": "stream",
          "name": "stdout",
          "text": [
            "\n",
            "Submitting Solutions | Programming Exercise logistic-regression\n",
            "\n",
            "Use token from last successful submission (deepesh.1905g2@gmail.com)? (Y/n): y\n",
            "                                  Part Name |     Score | Feedback\n",
            "                                  --------- |     ----- | --------\n",
            "   Regularized Logistic Regression Gradient |   5 /   5 | Nice work!\n",
            "                           Sigmoid Function |   0 /  30 | Your answer is incorrect.\n",
            "                   Logistic Regression Cost |   0 /  30 | Your answer is incorrect.\n",
            "               Logistic Regression Gradient |   0 /   5 | Your answer is incorrect.\n",
            "                                    Predict |   0 /  15 | Your answer is incorrect.\n",
            "       Regularized Logistic Regression Cost |   0 /  15 | Your answer is incorrect.\n",
            "                                  --------------------------------\n",
            "                                            |   5 / 100 |  \n",
            "\n"
          ]
        }
      ]
    },
    {
      "cell_type": "code",
      "source": [
        "x = np.array(X)\n",
        "y = np.array(Y)"
      ],
      "metadata": {
        "id": "_Eo7-9Q5-Dba"
      },
      "execution_count": 9,
      "outputs": []
    },
    {
      "cell_type": "code",
      "source": [
        "x = np.concatenate([np.ones((x.shape[0],1)), x], axis=1)\n",
        "print(x[:4])"
      ],
      "metadata": {
        "colab": {
          "base_uri": "https://localhost:8080/"
        },
        "id": "3HRpS7gT-WWn",
        "outputId": "bdde0bd1-b3cf-4b45-c354-1743fe820826"
      },
      "execution_count": 10,
      "outputs": [
        {
          "output_type": "stream",
          "name": "stdout",
          "text": [
            "[[ 1.         34.62365962 78.02469282]\n",
            " [ 1.         30.28671077 43.89499752]\n",
            " [ 1.         35.84740877 72.90219803]\n",
            " [ 1.         60.18259939 86.3085521 ]]\n"
          ]
        }
      ]
    },
    {
      "cell_type": "code",
      "source": [
        "def costFunction(theta, x, y):\n",
        "    m = y.size\n",
        "    J = 0\n",
        "    grad = np.zeros(theta.shape)\n",
        "    h = sigmoid(np.dot(x, theta))\n",
        "    pos_cost = np.dot(-y, np.log(h))\n",
        "    neg_cost = np.dot((1-y), np.log(1-h))\n",
        "    J = (np.sum(pos_cost-neg_cost))/m\n",
        "    grad = (h-y).dot(x)/m\n",
        "    return J, grad\n",
        "# Initialize fitting parameters\n",
        "initial_theta = np.zeros(x.shape[1])\n",
        "\n",
        "cost, grad = costFunction(initial_theta, x, y)\n",
        "\n",
        "print('Cost at initial theta (zeros): {:.3f}'.format(cost))\n",
        "print('Expected cost (approx): 0.693\\n')\n",
        "\n",
        "print('Gradient at initial theta (zeros):')\n",
        "print('\\t[{:.4f}, {:.4f}, {:.4f}]'.format(*grad))\n",
        "print('Expected gradients (approx):\\n\\t[-0.1000, -12.0092, -11.2628]\\n')\n",
        "\n",
        "# Compute and display cost and gradient with non-zero theta\n",
        "test_theta = np.array([-24, 0.2, 0.2])\n",
        "cost, grad = costFunction(test_theta, x, y)\n",
        "\n",
        "print('Cost at test theta: {:.3f}'.format(cost))\n",
        "print('Expected cost (approx): 0.218\\n')\n",
        "\n",
        "print('Gradient at test theta:')\n",
        "print('\\t[{:.3f}, {:.3f}, {:.3f}]'.format(*grad))\n",
        "print('Expected gradients (approx):\\n\\t[0.043, 2.566, 2.647]')"
      ],
      "metadata": {
        "colab": {
          "base_uri": "https://localhost:8080/"
        },
        "id": "IwLCLMnc_pb5",
        "outputId": "b5fb1190-f93f-4273-9c47-5080f34d5256"
      },
      "execution_count": 11,
      "outputs": [
        {
          "output_type": "stream",
          "name": "stdout",
          "text": [
            "Cost at initial theta (zeros): 0.693\n",
            "Expected cost (approx): 0.693\n",
            "\n",
            "Gradient at initial theta (zeros):\n",
            "\t[-0.1000, -12.0092, -11.2628]\n",
            "Expected gradients (approx):\n",
            "\t[-0.1000, -12.0092, -11.2628]\n",
            "\n",
            "Cost at test theta: 0.218\n",
            "Expected cost (approx): 0.218\n",
            "\n",
            "Gradient at test theta:\n",
            "\t[0.043, 2.566, 2.647]\n",
            "Expected gradients (approx):\n",
            "\t[0.043, 2.566, 2.647]\n"
          ]
        }
      ]
    },
    {
      "cell_type": "code",
      "source": [
        "grader[2] = costFunction\n",
        "grader[3] = costFunction\n",
        "grader.grade()"
      ],
      "metadata": {
        "colab": {
          "base_uri": "https://localhost:8080/"
        },
        "id": "bkH74ibiFbOp",
        "outputId": "22b5313e-8752-411c-8d87-4441bbacfc23"
      },
      "execution_count": null,
      "outputs": [
        {
          "output_type": "stream",
          "name": "stdout",
          "text": [
            "\n",
            "Submitting Solutions | Programming Exercise logistic-regression\n",
            "\n",
            "Use token from last successful submission (deepesh.1905g2@gmail.com)? (Y/n): y\n",
            "                                  Part Name |     Score | Feedback\n",
            "                                  --------- |     ----- | --------\n",
            "   Regularized Logistic Regression Gradient |   5 /   5 | Nice work!\n",
            "                           Sigmoid Function |  30 /  30 | Nice work!\n",
            "                   Logistic Regression Cost |  30 /  30 | Nice work!\n",
            "               Logistic Regression Gradient |   0 /   5 | Your answer is incorrect.\n",
            "                                    Predict |   0 /  15 | Your answer is incorrect.\n",
            "       Regularized Logistic Regression Cost |   0 /  15 | Your answer is incorrect.\n",
            "                                  --------------------------------\n",
            "                                            |  65 / 100 |  \n",
            "\n"
          ]
        }
      ]
    },
    {
      "cell_type": "code",
      "source": [
        "options = {\"maxiter\": 1000}\n",
        "\n",
        "res = opt.minimize(costFunction, initial_theta, (x, y), jac = True, method=\"TNC\", options = options)\n",
        "cost = res.fun\n",
        "\n",
        "# the optimized theta is in the x property\n",
        "theta = res.x\n",
        "\n",
        "# Print theta to screen\n",
        "print('Cost at theta found by optimize.minimize: {:.3f}'.format(cost))\n",
        "print('Expected cost (approx): 0.203\\n');\n",
        "\n",
        "print('theta:')\n",
        "print('\\t[{:.3f}, {:.3f}, {:.3f}]'.format(*theta))\n",
        "print('Expected theta (approx):\\n\\t[-25.161, 0.206, 0.201]')\n"
      ],
      "metadata": {
        "colab": {
          "base_uri": "https://localhost:8080/"
        },
        "id": "-trPSfa8GvvH",
        "outputId": "686976cb-3a71-4288-abf6-04a7e1b9d6e4"
      },
      "execution_count": 12,
      "outputs": [
        {
          "output_type": "stream",
          "name": "stdout",
          "text": [
            "Cost at theta found by optimize.minimize: 0.203\n",
            "Expected cost (approx): 0.203\n",
            "\n",
            "theta:\n",
            "\t[-25.161, 0.206, 0.201]\n",
            "Expected theta (approx):\n",
            "\t[-25.161, 0.206, 0.201]\n"
          ]
        }
      ]
    },
    {
      "cell_type": "code",
      "source": [
        ""
      ],
      "metadata": {
        "id": "EKhM6Id0J8gz"
      },
      "execution_count": null,
      "outputs": []
    },
    {
      "cell_type": "code",
      "source": [
        "decisionBoundary1 = []\n",
        "x_value= np.array([30, 100])\n",
        "print(x_value)\n",
        "\n",
        "'''\n",
        "    if h(theta*x) == 0.5 when e^-(z) == 1 => z==0\n",
        "    z = theta[0]*x[0] + theta[1]*x[1] + theta[2]*x[2] = 0\n",
        "    take random values of x1 and get x2\n",
        "    x2 = (-theta[0] - theta[1]*x[1])/theta[2]\n",
        "'''\n",
        "\n",
        "y_value=(-1. / theta[2]) * (theta[1] * x_value + theta[0])\n",
        "print(y_value)\n",
        "fig = plt.figure()\n",
        "axes = fig.add_subplot(111)\n",
        "axes.set_xlabel(\"Exam 1 score\")\n",
        "axes.set_ylabel(\"Exam 2 score\")\n",
        "axes.scatter(X[pos].iloc[:,0], X[pos].iloc[:,1], marker=\"o\", c=\"lime\", label = \"Admitted\")\n",
        "axes.scatter(X[neg].iloc[:,0], X[neg].iloc[:,1], marker=\"x\", c=\"red\", label = \"Not-Admitted\")\n",
        "axes.plot(x_value, y_value, color=\"black\")"
      ],
      "metadata": {
        "colab": {
          "base_uri": "https://localhost:8080/",
          "height": 330
        },
        "id": "cHd8e1cuKagc",
        "outputId": "e32f34c3-b51a-4cc5-a92a-3d623adeea06"
      },
      "execution_count": 13,
      "outputs": [
        {
          "output_type": "stream",
          "name": "stdout",
          "text": [
            "[ 30 100]\n",
            "[94.17893979 22.52507222]\n"
          ]
        },
        {
          "output_type": "execute_result",
          "data": {
            "text/plain": [
              "[<matplotlib.lines.Line2D at 0x7f9277680790>]"
            ]
          },
          "metadata": {},
          "execution_count": 13
        },
        {
          "output_type": "display_data",
          "data": {
            "image/png": "[encoded data removed]",
            "text/plain": [
              "<Figure size 432x288 with 1 Axes>"
            ]
          },
          "metadata": {
            "needs_background": "light"
          }
        }
      ]
    },
    {
      "cell_type": "code",
      "source": [
        "def predict(theta, X):\n",
        "    \"\"\"\n",
        "    Predict whether the label is 0 or 1 using learned logistic regression.\n",
        "    Computes the predictions for X using a threshold at 0.5 \n",
        "    (i.e., if sigmoid(theta.T*x) >= 0.5, predict 1)\n",
        "    \n",
        "    Parameters\n",
        "    ----------\n",
        "    theta : array_like\n",
        "        Parameters for logistic regression. A vecotor of shape (n+1, ).\n",
        "    \n",
        "    X : array_like\n",
        "        The data to use for computing predictions. The rows is the number \n",
        "        of points to compute predictions, and columns is the number of\n",
        "        features.\n",
        "\n",
        "    Returns\n",
        "    -------\n",
        "    p : array_like\n",
        "        Predictions and 0 or 1 for each row in X. \n",
        "    \n",
        "    Instructions\n",
        "    ------------\n",
        "    Complete the following code to make predictions using your learned \n",
        "    logistic regression parameters.You should set p to a vector of 0's and 1's    \n",
        "    \"\"\"\n",
        "    m = X.shape[0] # Number of training examples\n",
        "\n",
        "    # You need to return the following variables correctly\n",
        "    p = np.zeros(m)\n",
        "    p = sigmoid(X.dot(theta))>=0.5\n",
        "    return p\n",
        "#  Predict probability for a student with score 45 on exam 1 \n",
        "#  and score 85 on exam 2 \n",
        "prob = sigmoid(np.dot([1, 45, 85], theta))\n",
        "print('For a student with scores 45 and 85,'\n",
        "      'we predict an admission probability of {:.3f}'.format(prob))\n",
        "print('Expected value: 0.775 +/- 0.002\\n')\n",
        "\n",
        "# Compute accuracy on our training set\n",
        "p = predict(theta, x)\n",
        "print('Train Accuracy: {:.2f} %'.format(np.mean(p == y) * 100))\n",
        "print('Expected accuracy (approx): 89.00 %')"
      ],
      "metadata": {
        "colab": {
          "base_uri": "https://localhost:8080/"
        },
        "id": "CmkMjFYhUQPt",
        "outputId": "be9cb2af-aa81-45ce-f5fb-b159bbe08d51"
      },
      "execution_count": 14,
      "outputs": [
        {
          "output_type": "stream",
          "name": "stdout",
          "text": [
            "For a student with scores 45 and 85,we predict an admission probability of 0.776\n",
            "Expected value: 0.775 +/- 0.002\n",
            "\n",
            "Train Accuracy: 89.00 %\n",
            "Expected accuracy (approx): 89.00 %\n"
          ]
        }
      ]
    },
    {
      "cell_type": "code",
      "source": [
        "grader[4] = predict\n",
        "grader.grade()\n"
      ],
      "metadata": {
        "colab": {
          "base_uri": "https://localhost:8080/"
        },
        "id": "Yaw_VRNeU_rg",
        "outputId": "45c168d0-a0cb-42ad-ebab-366394b764f4"
      },
      "execution_count": null,
      "outputs": [
        {
          "output_type": "stream",
          "name": "stdout",
          "text": [
            "\n",
            "Submitting Solutions | Programming Exercise logistic-regression\n",
            "\n",
            "Use token from last successful submission (deepesh.1905g2@gmail.com)? (Y/n): y\n",
            "                                  Part Name |     Score | Feedback\n",
            "                                  --------- |     ----- | --------\n",
            "   Regularized Logistic Regression Gradient |   5 /   5 | Nice work!\n",
            "                           Sigmoid Function |  30 /  30 | Nice work!\n",
            "                   Logistic Regression Cost |  30 /  30 | Nice work!\n",
            "               Logistic Regression Gradient |   5 /   5 | Nice work!\n",
            "                                    Predict |   0 /  15 | Your answer is incorrect.\n",
            "       Regularized Logistic Regression Cost |   0 /  15 | Your answer is incorrect.\n",
            "                                  --------------------------------\n",
            "                                            |  70 / 100 |  \n",
            "\n"
          ]
        }
      ]
    },
    {
      "cell_type": "markdown",
      "source": [
        "#Regularized logistic regression"
      ],
      "metadata": {
        "id": "dC5LJIeLcQrV"
      }
    },
    {
      "cell_type": "code",
      "source": [
        "df = pd.read_csv(\"ex2data2.txt\", names=[\"test1\", \"test2\", \"result\"])\n",
        "df.head(5)\n",
        "X = df.iloc[:, :2]\n",
        "y = df.iloc[:, 2]"
      ],
      "metadata": {
        "id": "ViGovuwFVTXS"
      },
      "execution_count": 23,
      "outputs": []
    },
    {
      "cell_type": "code",
      "source": [
        "pos = y==1\n",
        "neg = y==0"
      ],
      "metadata": {
        "id": "a83sNDvjdil8"
      },
      "execution_count": 24,
      "outputs": []
    },
    {
      "cell_type": "code",
      "source": [
        "fig = plt.figure()\n",
        "axes = fig.add_subplot(111)\n",
        "axes.set_xlabel(\"Exam 1 score\")\n",
        "axes.set_ylabel(\"Exam 2 score\")\n",
        "axes.scatter(X.loc[pos, \"test1\"], X.loc[pos, \"test2\"], marker=\"o\", color=\"green\", label = \"passed\")\n",
        "axes.scatter(X.loc[neg, \"test1\"], X.loc[neg, \"test2\"], marker=\"x\", color=\"red\", label = \"passed\")\n",
        "axes.set_xlabel=\"Test-1 Score\"\n",
        "axes.set_ylabel=\"Test-2 Score\"\n",
        "axes.legend()"
      ],
      "metadata": {
        "colab": {
          "base_uri": "https://localhost:8080/",
          "height": 296
        },
        "id": "mpt9iwrCcjp6",
        "outputId": "3c4bafd0-09d3-4f75-d909-45f4955396b1"
      },
      "execution_count": 25,
      "outputs": [
        {
          "output_type": "execute_result",
          "data": {
            "text/plain": [
              "<matplotlib.legend.Legend at 0x7f9272d3dcd0>"
            ]
          },
          "metadata": {},
          "execution_count": 25
        },
        {
          "output_type": "display_data",
          "data": {
            "image/png": "[encoded data removed]",
            "text/plain": [
              "<Figure size 432x288 with 1 Axes>"
            ]
          },
          "metadata": {
            "needs_background": "light"
          }
        }
      ]
    },
    {
      "cell_type": "code",
      "source": [
        "def mapFeature(X1, X2, degree=6):\n",
        "    out = [np.ones(X1.shape[0])]\n",
        "\n",
        "    for i in range(1, degree + 1):\n",
        "        for j in range(i + 1):\n",
        "            out.append((X1 ** (i - j)) * (X2 ** j))\n",
        "    return np.stack(out, axis=1)\n",
        "print(X.shape)\n",
        "X = utils.mapFeature(X.iloc[:, 0], X.iloc[:, 0])\n",
        "print(X)"
      ],
      "metadata": {
        "colab": {
          "base_uri": "https://localhost:8080/"
        },
        "id": "ShEcP2XffXpF",
        "outputId": "8d4f1417-ac16-479e-fed6-a03365d6429c"
      },
      "execution_count": 26,
      "outputs": [
        {
          "output_type": "stream",
          "name": "stdout",
          "text": [
            "(118, 2)\n",
            "[[ 1.00000000e+00  5.12670000e-02  5.12670000e-02 ...  1.81563032e-08\n",
            "   1.81563032e-08  1.81563032e-08]\n",
            " [ 1.00000000e+00 -9.27420000e-02 -9.27420000e-02 ...  6.36295342e-07\n",
            "   6.36295342e-07  6.36295342e-07]\n",
            " [ 1.00000000e+00 -2.13710000e-01 -2.13710000e-01 ...  9.52684426e-05\n",
            "   9.52684426e-05  9.52684426e-05]\n",
            " ...\n",
            " [ 1.00000000e+00 -4.84450000e-01 -4.84450000e-01 ...  1.29268813e-02\n",
            "   1.29268813e-02  1.29268813e-02]\n",
            " [ 1.00000000e+00 -6.33640000e-03 -6.33640000e-03 ...  6.47225339e-14\n",
            "   6.47225339e-14  6.47225339e-14]\n",
            " [ 1.00000000e+00  6.32650000e-01  6.32650000e-01 ...  6.41181634e-02\n",
            "   6.41181634e-02  6.41181634e-02]]\n"
          ]
        }
      ]
    },
    {
      "cell_type": "code",
      "source": [
        "def costFunctionReg(theta, x, y, lam):\n",
        "    m = x.shape[0]\n",
        "    h = sigmoid(np.dot(x,theta))\n",
        "    first = ((-y)*np.log(h))\n",
        "    second = (1-y)*(np.log(1-(h)))\n",
        "    error = first - second\n",
        "    theta_reg = theta\n",
        "    theta_reg[0] = 0\n",
        "    J = ((1/m)*sum(error)) + (lam/(2*m))*np.sum(np.dot(theta[1:].T,theta_reg[1:]))\n",
        "    grad = np.array((1/m)*np.dot(x.transpose(),(h-y))) + (lam/m)*theta_reg\n",
        "    return J, grad\n",
        "    \n",
        "initial_theta = np.zeros(X.shape[1])\n",
        "lambda_ = 1\n",
        "\n",
        "cost, grad = costFunctionReg(initial_theta, X, y, lambda_)\n",
        "\n",
        "print('Cost at initial theta (zeros): {:.3f}'.format(cost))\n",
        "print('Expected cost (approx)       : 0.693\\n')\n",
        "\n",
        "print('Gradient at initial theta (zeros) - first five values only:')\n",
        "print('\\t[{:.4f}, {:.4f}, {:.4f}, {:.4f}, {:.4f}]'.format(*grad[:5]))\n",
        "print('Expected gradients (approx) - first five values only:')\n",
        "print('\\t[0.0085, 0.0188, 0.0001, 0.0503, 0.0115]\\n')\n",
        "\n",
        "test_theta = np.ones(X.shape[1])\n",
        "cost, grad = costFunctionReg(test_theta, X, y, 10)\n",
        "\n",
        "print('------------------------------\\n')\n",
        "print('Cost at test theta    : {:.2f}'.format(cost))\n",
        "print('Expected cost (approx): 3.16\\n')\n",
        "\n",
        "print('Gradient at test theta - first five values only:')\n",
        "print('\\t[{:.4f}, {:.4f}, {:.4f}, {:.4f}, {:.4f}]'.format(*grad[:5]))\n",
        "print('Expected gradients (approx) - first five values only:')\n",
        "print('\\t[0.3460, 0.1614, 0.1948, 0.2269, 0.0922]')"
      ],
      "metadata": {
        "colab": {
          "base_uri": "https://localhost:8080/"
        },
        "id": "GcLr7r5vheg4",
        "outputId": "b410ac33-b422-4272-a867-3845d2d94dd9"
      },
      "execution_count": 27,
      "outputs": [
        {
          "output_type": "stream",
          "name": "stdout",
          "text": [
            "Cost at initial theta (zeros): 0.693\n",
            "Expected cost (approx)       : 0.693\n",
            "\n",
            "Gradient at initial theta (zeros) - first five values only:\n",
            "\t[0.0085, 0.0188, 0.0188, 0.0503, 0.0503]\n",
            "Expected gradients (approx) - first five values only:\n",
            "\t[0.0085, 0.0188, 0.0001, 0.0503, 0.0115]\n",
            "\n",
            "------------------------------\n",
            "\n",
            "Cost at test theta    : inf\n",
            "Expected cost (approx): 3.16\n",
            "\n",
            "Gradient at test theta - first five values only:\n",
            "\t[0.3001, 0.1882, 0.1882, 0.2255, 0.2255]\n",
            "Expected gradients (approx) - first five values only:\n",
            "\t[0.3460, 0.1614, 0.1948, 0.2269, 0.0922]\n"
          ]
        },
        {
          "output_type": "stream",
          "name": "stderr",
          "text": [
            "/usr/local/lib/python3.7/dist-packages/ipykernel_launcher.py:5: RuntimeWarning: divide by zero encountered in log\n",
            "  \"\"\"\n"
          ]
        }
      ]
    },
    {
      "cell_type": "code",
      "source": [
        "grader[5] = costFunctionReg\n",
        "grader[6] = costFunctionReg\n",
        "grader.grade()"
      ],
      "metadata": {
        "colab": {
          "base_uri": "https://localhost:8080/"
        },
        "id": "69Hn3NGQoIdM",
        "outputId": "b8ad0f74-7b16-4616-e911-bc78dc45d897"
      },
      "execution_count": null,
      "outputs": [
        {
          "output_type": "stream",
          "name": "stdout",
          "text": [
            "\n",
            "Submitting Solutions | Programming Exercise logistic-regression\n",
            "\n",
            "Use token from last successful submission (deepesh.1905g2@gmail.com)? (Y/n): n\n",
            "Login (email address): deepesh.1905g2@gmail.com\n",
            "Token: wyw5VghBp1Pwma9S\n",
            "                                  Part Name |     Score | Feedback\n",
            "                                  --------- |     ----- | --------\n",
            "   Regularized Logistic Regression Gradient |   5 /   5 | Nice work!\n",
            "                           Sigmoid Function |  30 /  30 | Nice work!\n",
            "                   Logistic Regression Cost |  30 /  30 | Nice work!\n",
            "               Logistic Regression Gradient |   5 /   5 | Nice work!\n",
            "                                    Predict |  15 /  15 | Nice work!\n",
            "       Regularized Logistic Regression Cost |  15 /  15 | Nice work!\n",
            "                                  --------------------------------\n",
            "                                            | 100 / 100 |  \n",
            "\n"
          ]
        }
      ]
    },
    {
      "cell_type": "code",
      "source": [
        "def plotData(X, y):\n",
        "    pos = y[1] == 1\n",
        "    neg = y[1] == 0\n",
        "    plt.plot(X[pos, 0], X[pos, 1], 'k*', lw=2, ms=10)\n",
        "    plt.plot(X[neg, 0], X[neg, 1], 'ko', mfc='y', ms=8, mec='k', mew=1)"
      ],
      "metadata": {
        "id": "p_JIVj8Z1l38"
      },
      "execution_count": 18,
      "outputs": []
    },
    {
      "cell_type": "code",
      "source": [
        "def plotDecisionBoundary(plotData, theta, X, y):\n",
        "    # make sure theta is a numpy array\n",
        "    theta = np.array(theta)\n",
        "\n",
        "    # Plot Data (remember first column in X is the intercept)\n",
        "    plotData(X[:, 1:3], y)\n",
        "\n",
        "    if X.shape[1] <= 3:\n",
        "        # Only need 2 points to define a line, so choose two endpoints\n",
        "        plot_x = np.array([np.min(X[:, 1]) - 2, np.max(X[:, 1]) + 2])\n",
        "\n",
        "        # Calculate the decision boundary line\n",
        "        plot_y = (-1. / theta[2]) * (theta[1] * plot_x + theta[0])\n",
        "\n",
        "        # Plot, and adjust axes for better viewing\n",
        "        plt.plot(plot_x, plot_y)\n",
        "\n",
        "        # Legend, specific for the exercise\n",
        "        plt.legend(['Admitted', 'Not admitted', 'Decision Boundary'])\n",
        "        plt.xlim([30, 100])\n",
        "        plt.ylim([30, 100])\n",
        "    else:\n",
        "        # Here is the grid range\n",
        "        u = np.linspace(-1, 1.5, 50)\n",
        "        v = np.linspace(-1, 1.5, 50)\n",
        "\n",
        "        z = np.zeros((u.size, v.size))\n",
        "        # Evaluate z = theta*x over the grid\n",
        "        for i, ui in enumerate(u):\n",
        "            for j, vj in enumerate(v):\n",
        "                z[i, j] = np.dot(mapFeature(ui, vj), theta)\n",
        "\n",
        "        z = z.T  # important to transpose z before calling contour\n",
        "        # print(z)\n",
        "\n",
        "        # Plot z = 0\n",
        "        plt.contour(u, v, z, levels=[0], linewidths=2, colors='g')\n",
        "        plt.contourf(u, v, z, levels=[np.min(z), 0, np.max(z)], cmap='Greens', alpha=0.4)"
      ],
      "metadata": {
        "id": "v9HC97Ao1-5k"
      },
      "execution_count": 20,
      "outputs": []
    },
    {
      "cell_type": "code",
      "source": [
        "# Initialize fitting parameters\n",
        "initial_theta = np.zeros(X.shape[1])\n",
        "\n",
        "# Set regularization parameter lambda to 1 (you should vary this)\n",
        "lambda_ = 1\n",
        "\n",
        "# set options for optimize.minimize\n",
        "options= {'maxiter': 100}\n",
        "\n",
        "res = opt.minimize(costFunctionReg,\n",
        "                        initial_theta,\n",
        "                        (X, y, lambda_),\n",
        "                        jac=True,\n",
        "                        method='TNC',\n",
        "                        options=options)\n",
        "\n",
        "# the fun property of OptimizeResult object returns\n",
        "# the value of costFunction at optimized theta\n",
        "cost = res.fun\n",
        "\n",
        "# the optimized theta is in the x property of the result\n",
        "theta = res.x\n",
        "\n",
        "utils.plotDecisionBoundary(plotData, theta, X, y)\n",
        "plt.xlabel('Microchip Test 1')\n",
        "plt.ylabel('Microchip Test 2')\n",
        "plt.legend(['y = 1', 'y = 0'])\n",
        "plt.grid(False)\n",
        "plt.title('lambda = %0.2f' % lambda_)\n",
        "\n",
        "# Compute accuracy on our training set\n",
        "p = predict(theta, X)\n",
        "\n",
        "print('Train Accuracy: %.1f %%' % (np.mean(p == y) * 100))\n",
        "print('Expected accuracy (with lambda = 1): 83.1 % (approx)\\n')"
      ],
      "metadata": {
        "colab": {
          "base_uri": "https://localhost:8080/",
          "height": 400
        },
        "id": "MllsLrLW1a_h",
        "outputId": "ca9de219-8e29-41b7-a7e9-8241db8a0114"
      },
      "execution_count": 28,
      "outputs": [
        {
          "output_type": "stream",
          "name": "stderr",
          "text": [
            "/content/utils.py:45: VisibleDeprecationWarning: Creating an ndarray from ragged nested sequences (which is a list-or-tuple of lists-or-tuples-or ndarrays with different lengths or shapes) is deprecated. If you meant to do this, you must specify 'dtype=object' when creating the ndarray\n",
            "  return np.array(out)\n"
          ]
        },
        {
          "output_type": "stream",
          "name": "stdout",
          "text": [
            "Train Accuracy: 55.1 %\n",
            "Expected accuracy (with lambda = 1): 83.1 % (approx)\n",
            "\n"
          ]
        },
        {
          "output_type": "display_data",
          "data": {
            "image/png": "[encoded data removed]",
            "text/plain": [
              "<Figure size 432x288 with 1 Axes>"
            ]
          },
          "metadata": {
            "needs_background": "light"
          }
        }
      ]
    }
  ]
}