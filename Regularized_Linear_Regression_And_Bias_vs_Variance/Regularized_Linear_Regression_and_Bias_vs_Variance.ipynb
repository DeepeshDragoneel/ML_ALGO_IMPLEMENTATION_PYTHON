{
  "nbformat": 4,
  "nbformat_minor": 0,
  "metadata": {
    "colab": {
      "name": "Regularized Linear Regression and Bias vs Variance.ipynb",
      "provenance": []
    },
    "kernelspec": {
      "name": "python3",
      "display_name": "Python 3"
    },
    "language_info": {
      "name": "python"
    }
  },
  "cells": [
    {
      "cell_type": "code",
      "execution_count": null,
      "metadata": {
        "id": "JGn8VD_wnbkg"
      },
      "outputs": [],
      "source": [
        "import numpy as np\n",
        "import pandas as pd\n",
        "import matplotlib.pyplot as plt\n",
        "from scipy import optimize\n",
        "from scipy.io import loadmat\n",
        "import utils\n",
        "\n",
        "grader = utils.Grader()\n",
        "\n",
        "%matplotlib inline"
      ]
    },
    {
      "cell_type": "code",
      "source": [
        "data = loadmat('ex5data1.mat')\n",
        "X, y = data['X'], data['y'][:,0]\n",
        "Xval, yval = data['Xval'], data['yval'][:,0]\n",
        "Xtest, ytest = data['Xtest'], data['ytest'][:, 0]\n",
        "\n",
        "m = y.size\n",
        "\n",
        "fig = plt.figure()\n",
        "axes1 = fig.add_axes([0,0,1,1])\n",
        "axes1.plot(X, y, 'ro', ms=10,  mec='k', mew=1)\n",
        "axes1.set_xlabel(\"Change in water level (x)\")\n",
        "axes1.set_ylabel(\"Water flowing out of dam (y)\")"
      ],
      "metadata": {
        "colab": {
          "base_uri": "https://localhost:8080/",
          "height": 367
        },
        "id": "kO_gMCrborCQ",
        "outputId": "1d869e54-ffd5-4c4f-e846-51868daa1900"
      },
      "execution_count": null,
      "outputs": [
        {
          "output_type": "execute_result",
          "data": {
            "text/plain": [
              "Text(0, 0.5, 'Water flowing out of dam (y)')"
            ]
          },
          "metadata": {},
          "execution_count": 10
        },
        {
          "output_type": "display_data",
          "data": {
            "image/png": "[encoded data removed]",
            "text/plain": [
              "<Figure size 432x288 with 1 Axes>"
            ]
          },
          "metadata": {
            "needs_background": "light"
          }
        }
      ]
    },
    {
      "cell_type": "code",
      "source": [
        "def linearRegCostFunction(X, y, theta, lambda_=0.0):\n",
        "    # Initialize some useful values\n",
        "    m = y.size # number of training examples\n",
        "\n",
        "    # You need to return the following variables correctly \n",
        "    J = 0\n",
        "    grad = np.zeros(theta.shape)\n",
        "\n",
        "    theta_temp = theta.copy()\n",
        "    theta_temp[0] = 0\n",
        "\n",
        "    h = np.dot(X, theta)\n",
        "    \n",
        "    J = np.sum(np.square(h-y)/(2*m)) + np.sum((lambda_/(2*m)) * np.square(theta_temp))\n",
        "\n",
        "    grad = (((h-y).dot(X))/m) + ((lambda_/m)*theta_temp) \n",
        "\n",
        "    return J, grad\n",
        "\n",
        "theta = np.array([1, 1])\n",
        "J, _ = linearRegCostFunction(np.concatenate([np.ones((m, 1)), X], axis=1), y, theta, 1)\n",
        "\n",
        "print('Cost at theta = [1, 1]:\\t   %f ' % J)\n",
        "print('This value should be about 303.993192)\\n' % J)\n",
        "\n",
        "theta = np.array([1, 1])\n",
        "J, grad = linearRegCostFunction(np.concatenate([np.ones((m, 1)), X], axis=1), y, theta, 1)\n",
        "\n",
        "print('Gradient at theta = [1, 1]:  [{:.6f}, {:.6f}] '.format(*grad))\n",
        "print(' (this value should be about [-15.303016, 598.250744])\\n')"
      ],
      "metadata": {
        "colab": {
          "base_uri": "https://localhost:8080/"
        },
        "id": "7eUUkPDWrfw1",
        "outputId": "63bc97cc-4077-4cc0-8c83-e52287f30232"
      },
      "execution_count": null,
      "outputs": [
        {
          "output_type": "stream",
          "name": "stdout",
          "text": [
            "Cost at theta = [1, 1]:\t   303.993192 \n",
            "This value should be about 303.993192)\n",
            "\n",
            "Gradient at theta = [1, 1]:  [-15.303016, 598.250744] \n",
            " (this value should be about [-15.303016, 598.250744])\n",
            "\n"
          ]
        }
      ]
    },
    {
      "cell_type": "code",
      "source": [
        "grader[1] = linearRegCostFunction\n",
        "grader.grade()"
      ],
      "metadata": {
        "colab": {
          "base_uri": "https://localhost:8080/"
        },
        "id": "URRtbARntKHP",
        "outputId": "591df2b3-7f83-4750-de67-39a4ca9cae41"
      },
      "execution_count": null,
      "outputs": [
        {
          "output_type": "stream",
          "name": "stdout",
          "text": [
            "\n",
            "Submitting Solutions | Programming Exercise regularized-linear-regression-and-bias-variance\n",
            "\n",
            "Use token from last successful submission (deepesh.1905g2@gmail.com)? (Y/n): y\n",
            "                                  Part Name |     Score | Feedback\n",
            "                                  --------- |     ----- | --------\n",
            "                           Validation Curve |  25 /  25 | Nice work!\n",
            "Regularized Linear Regression Cost Function |   0 /  25 | Your answer is incorrect.\n",
            "     Regularized Linear Regression Gradient |   0 /  20 | Your answer is incorrect.\n",
            "                             Learning Curve |   0 /  10 | Your answer is incorrect.\n",
            "                 Polynomial Feature Mapping |   0 /  20 | Your answer is incorrect.\n",
            "                                  --------------------------------\n",
            "                                            |  25 / 100 |  \n",
            "\n"
          ]
        }
      ]
    },
    {
      "cell_type": "code",
      "source": [
        "grader[2] = linearRegCostFunction\n",
        "grader.grade()"
      ],
      "metadata": {
        "colab": {
          "base_uri": "https://localhost:8080/"
        },
        "id": "uIvFp1QZtMHx",
        "outputId": "22e7581b-ecdf-4f7b-f037-01d4f3ce3bbe"
      },
      "execution_count": null,
      "outputs": [
        {
          "output_type": "stream",
          "name": "stdout",
          "text": [
            "\n",
            "Submitting Solutions | Programming Exercise regularized-linear-regression-and-bias-variance\n",
            "\n",
            "Use token from last successful submission (deepesh.1905g2@gmail.com)? (Y/n): y\n",
            "                                  Part Name |     Score | Feedback\n",
            "                                  --------- |     ----- | --------\n",
            "                           Validation Curve |  25 /  25 | Nice work!\n",
            "Regularized Linear Regression Cost Function |  25 /  25 | Nice work!\n",
            "     Regularized Linear Regression Gradient |   0 /  20 | Your answer is incorrect.\n",
            "                             Learning Curve |   0 /  10 | Your answer is incorrect.\n",
            "                 Polynomial Feature Mapping |   0 /  20 | Your answer is incorrect.\n",
            "                                  --------------------------------\n",
            "                                            |  50 / 100 |  \n",
            "\n"
          ]
        }
      ]
    },
    {
      "cell_type": "code",
      "source": [
        "def trainLinearReg(linearRegCostFunction, X, y, lambda_=0.0, maxiter=200):\n",
        "    # Initialize Theta\n",
        "    initial_theta = np.zeros(X.shape[1])\n",
        "\n",
        "    costFunction = lambda t: linearRegCostFunction(X, y, t, lambda_)\n",
        "\n",
        "    options = {'maxiter': maxiter}\n",
        "\n",
        "    # Minimize using scipy\n",
        "    res = optimize.minimize(costFunction, initial_theta, jac=True, method='TNC', options=options)\n",
        "    return res.x"
      ],
      "metadata": {
        "id": "EOtdxtL-tsZR"
      },
      "execution_count": null,
      "outputs": []
    },
    {
      "cell_type": "code",
      "source": [
        "X_temp = np.concatenate([np.ones((m, 1)), X], axis=1)\n",
        "theta = trainLinearReg(linearRegCostFunction, X_temp, y)\n",
        "print(theta)\n",
        "plt.plot(X, y, 'ro', ms=10, mec='k', mew=1.5)\n",
        "plt.xlabel('Change in water level (x)')\n",
        "plt.ylabel('Water flowing out of the dam (y)')\n",
        "plt.plot(X, np.dot(X_temp, theta), 'b-', lw=3);"
      ],
      "metadata": {
        "colab": {
          "base_uri": "https://localhost:8080/",
          "height": 296
        },
        "id": "jvC_XFAmvIYA",
        "outputId": "5d83726f-dfbc-4624-d8d4-775e81008a4d"
      },
      "execution_count": null,
      "outputs": [
        {
          "output_type": "stream",
          "name": "stdout",
          "text": [
            "[13.08790351  0.36777923]\n"
          ]
        },
        {
          "output_type": "display_data",
          "data": {
            "image/png": "[encoded data removed]",
            "text/plain": [
              "<Figure size 432x288 with 1 Axes>"
            ]
          },
          "metadata": {
            "needs_background": "light"
          }
        }
      ]
    },
    {
      "cell_type": "code",
      "source": [
        "def learningCurve(X, y, Xval, yval, lambda_=0):\n",
        "    # Number of training examples\n",
        "    m = y.size\n",
        "\n",
        "    # You need to return these values correctly\n",
        "    error_train = np.zeros(m)\n",
        "    error_val   = np.zeros(m)\n",
        "\n",
        "    for i in range(1, m + 1):\n",
        "        theta_t = utils.trainLinearReg(linearRegCostFunction, X[:i], y[:i], lambda_ = lambda_)\n",
        "        error_train[i - 1], _ = linearRegCostFunction(X[:i], y[:i], theta_t, lambda_ = 0)\n",
        "        error_val[i - 1], _ = linearRegCostFunction(Xval, yval, theta_t, lambda_ = 0)\n",
        "\n",
        "    return error_train, error_val"
      ],
      "metadata": {
        "id": "PlAhB-_DwkGT"
      },
      "execution_count": null,
      "outputs": []
    },
    {
      "cell_type": "code",
      "source": [
        "X_aug = np.concatenate([np.ones((m, 1)), X], axis=1)\n",
        "Xval_aug = np.concatenate([np.ones((yval.size, 1)), Xval], axis=1)\n",
        "error_train, error_val = learningCurve(X_aug, y, Xval_aug, yval, lambda_=0)\n",
        "\n",
        "plt.plot(np.arange(1, m+1), error_train, np.arange(1, m+1), error_val, lw=2)\n",
        "plt.title('Learning curve for linear regression')\n",
        "plt.legend(['Train', 'Cross Validation'])\n",
        "plt.xlabel('Number of training examples')\n",
        "plt.ylabel('Error')\n",
        "plt.axis([0, 13, 0, 150])\n",
        "\n",
        "print('# Training Examples\\tTrain Error\\tCross Validation Error')\n",
        "for i in range(m):\n",
        "    print('  \\t%d\\t\\t%f\\t%f' % (i+1, error_train[i], error_val[i]))"
      ],
      "metadata": {
        "colab": {
          "base_uri": "https://localhost:8080/",
          "height": 516
        },
        "id": "m2_Ub4cX5ozv",
        "outputId": "b883ae93-dd2d-49a2-ec9b-2a552a56809c"
      },
      "execution_count": null,
      "outputs": [
        {
          "output_type": "stream",
          "name": "stdout",
          "text": [
            "# Training Examples\tTrain Error\tCross Validation Error\n",
            "  \t1\t\t0.000000\t205.121096\n",
            "  \t2\t\t0.000000\t110.302641\n",
            "  \t3\t\t3.286595\t45.010231\n",
            "  \t4\t\t2.842678\t48.368911\n",
            "  \t5\t\t13.154049\t35.865165\n",
            "  \t6\t\t19.443963\t33.829962\n",
            "  \t7\t\t20.098522\t31.970986\n",
            "  \t8\t\t18.172859\t30.862446\n",
            "  \t9\t\t22.609405\t31.135998\n",
            "  \t10\t\t23.261462\t28.936207\n",
            "  \t11\t\t24.317250\t29.551432\n",
            "  \t12\t\t22.373906\t29.433818\n"
          ]
        },
        {
          "output_type": "display_data",
          "data": {
            "image/png": "[encoded data removed]",
            "text/plain": [
              "<Figure size 432x288 with 1 Axes>"
            ]
          },
          "metadata": {
            "needs_background": "light"
          }
        }
      ]
    },
    {
      "cell_type": "code",
      "source": [
        "grader[3] = learningCurve\n",
        "grader.grade()"
      ],
      "metadata": {
        "colab": {
          "base_uri": "https://localhost:8080/"
        },
        "id": "BdaXL4vq8VIy",
        "outputId": "9a25bf64-cb90-45f2-82e9-50a975e902dc"
      },
      "execution_count": null,
      "outputs": [
        {
          "output_type": "stream",
          "name": "stdout",
          "text": [
            "\n",
            "Submitting Solutions | Programming Exercise regularized-linear-regression-and-bias-variance\n",
            "\n",
            "Use token from last successful submission (deepesh.1905g2@gmail.com)? (Y/n): n\n",
            "Login (email address): deepesh.1905g2@gmail.com\n",
            "Token: LayCxD6wLKIsJRX3\n",
            "                                  Part Name |     Score | Feedback\n",
            "                                  --------- |     ----- | --------\n",
            "                           Validation Curve |  25 /  25 | Nice work!\n",
            "Regularized Linear Regression Cost Function |  25 /  25 | Nice work!\n",
            "     Regularized Linear Regression Gradient |  20 /  20 | Nice work!\n",
            "                             Learning Curve |   0 /  10 | Your answer is incorrect.\n",
            "                 Polynomial Feature Mapping |   0 /  20 | Your answer is incorrect.\n",
            "                                  --------------------------------\n",
            "                                            |  70 / 100 |  \n",
            "\n"
          ]
        }
      ]
    },
    {
      "cell_type": "code",
      "source": [
        "def polyFeatures(X, p):\n",
        "    \"\"\"\n",
        "    Returns \n",
        "    -------\n",
        "    X_poly : array_like\n",
        "        A matrix of shape (m x p) where p is the polynomial \n",
        "        power and m is the number of examples. That is:\n",
        "    \n",
        "        X_poly[i, :] = [X[i], X[i]**2, X[i]**3 ...  X[i]**p]\n",
        "    \n",
        "    Instructions\n",
        "    ------------\n",
        "    Given a vector X, return a matrix X_poly where the p-th column of\n",
        "    X contains the values of X to the p-th power.\n",
        "    \"\"\"\n",
        "    X_poly = np.zeros((X.shape[0], p))\n",
        "    for i in range(1, p+1):\n",
        "        X_poly[:,i-1] = X[:,0]**i\n",
        "    \n",
        "    return X_poly"
      ],
      "metadata": {
        "colab": {
          "base_uri": "https://localhost:8080/"
        },
        "id": "DqvbpdyL8d2z",
        "outputId": "7f18f1e3-9f3b-472e-b157-ed90b722c4db"
      },
      "execution_count": null,
      "outputs": [
        {
          "output_type": "stream",
          "name": "stdout",
          "text": [
            "[[-1.59367581e+01  2.53980260e+02 -4.04762197e+03  6.45059724e+04\n",
            "  -1.02801608e+06  1.63832436e+07 -2.61095791e+08  4.16102047e+09]\n",
            " [-2.91529792e+01  8.49896197e+02 -2.47770062e+04  7.22323546e+05\n",
            "  -2.10578833e+07  6.13900035e+08 -1.78970150e+10  5.21751305e+11]\n",
            " [ 3.61895486e+01  1.30968343e+03  4.73968522e+04  1.71527069e+06\n",
            "   6.20748719e+07  2.24646160e+09  8.12984311e+10  2.94215353e+12]\n",
            " [ 3.74921873e+01  1.40566411e+03  5.27014222e+04  1.97589159e+06\n",
            "   7.40804977e+07  2.77743990e+09  1.04132297e+11  3.90414759e+12]\n",
            " [-4.80588295e+01  2.30965109e+03 -1.10999128e+05  5.33448815e+06\n",
            "  -2.56369256e+08  1.23208064e+10 -5.92123532e+11  2.84567638e+13]\n",
            " [-8.94145794e+00  7.99496701e+01 -7.14866612e+02  6.39194974e+03\n",
            "  -5.71533498e+04  5.11034273e+05 -4.56939146e+06  4.08570215e+07]\n",
            " [ 1.53077929e+01  2.34328523e+02  3.58705250e+03  5.49098568e+04\n",
            "   8.40548715e+05  1.28669456e+07  1.96964539e+08  3.01509237e+09]\n",
            " [-3.47062658e+01  1.20452489e+03 -4.18045609e+04  1.45088020e+06\n",
            "  -5.03546340e+07  1.74762131e+09 -6.06534098e+10  2.10505336e+12]\n",
            " [ 1.38915437e+00  1.92974986e+00  2.68072045e+00  3.72393452e+00\n",
            "   5.17311991e+00  7.18626212e+00  9.98282742e+00  1.38676883e+01]\n",
            " [-4.43837599e+01  1.96991814e+03 -8.74323736e+04  3.88057747e+06\n",
            "  -1.72234619e+08  7.64441995e+09 -3.39288099e+11  1.50588815e+13]\n",
            " [ 7.01350208e+00  4.91892115e+01  3.44988637e+02  2.41957852e+03\n",
            "   1.69697190e+04  1.19017160e+05  8.34727097e+05  5.85436023e+06]\n",
            " [ 2.27627489e+01  5.18142738e+02  1.17943531e+04  2.68471897e+05\n",
            "   6.11115839e+06  1.39106764e+08  3.16645234e+09  7.20771597e+10]]\n"
          ]
        }
      ]
    },
    {
      "cell_type": "code",
      "source": [
        "p = 8\n",
        "\n",
        "# Map X onto Polynomial Features and Normalize\n",
        "X_poly = polyFeatures(X, p)\n",
        "X_poly_mean = np.mean(X_poly, axis=0)\n",
        "X_poly_norm = X_poly - X_poly_mean\n",
        "sigma = np.std(X_poly_norm, axis=0, ddof=1)\n",
        "X_poly_norm /= sigma\n",
        "X_poly = X_poly_norm\n",
        "X_poly = np.concatenate([np.ones((m, 1)), X_poly], axis=1)\n",
        "\n",
        "# Map X_poly_test and normalize (using X_poly_mean and sigma)\n",
        "X_poly_test = polyFeatures(Xtest, p)\n",
        "X_poly_test -= X_poly_mean\n",
        "X_poly_test /= sigma\n",
        "X_poly_test = np.concatenate([np.ones((ytest.size, 1)), X_poly_test], axis=1)\n",
        "\n",
        "# Map X_poly_val and normalize (using X_poly_mean and sigma)\n",
        "X_poly_val = polyFeatures(Xval, p)\n",
        "X_poly_val -= X_poly_mean\n",
        "X_poly_val /= sigma\n",
        "X_poly_val = np.concatenate([np.ones((yval.size, 1)), X_poly_val], axis=1)\n",
        "\n",
        "print('Normalized Training Example 1:')\n",
        "X_poly[0, :]"
      ],
      "metadata": {
        "colab": {
          "base_uri": "https://localhost:8080/"
        },
        "id": "JP3sL8qVOduN",
        "outputId": "3faf27e3-0382-442e-c2f0-abe705f50187"
      },
      "execution_count": null,
      "outputs": [
        {
          "output_type": "stream",
          "name": "stdout",
          "text": [
            "Normalized Training Example 1:\n"
          ]
        },
        {
          "output_type": "execute_result",
          "data": {
            "text/plain": [
              "array([ 1.        , -0.36214078, -0.75508669,  0.18222588, -0.70618991,\n",
              "        0.30661792, -0.59087767,  0.3445158 , -0.50848117])"
            ]
          },
          "metadata": {},
          "execution_count": 73
        }
      ]
    },
    {
      "cell_type": "code",
      "source": [
        "grader[4] = polyFeatures\n",
        "grader.grade()"
      ],
      "metadata": {
        "colab": {
          "base_uri": "https://localhost:8080/"
        },
        "id": "dpRtaKnhPZRK",
        "outputId": "2688fd73-9a9d-41dd-d6b7-df01968219ba"
      },
      "execution_count": null,
      "outputs": [
        {
          "output_type": "stream",
          "name": "stdout",
          "text": [
            "\n",
            "Submitting Solutions | Programming Exercise regularized-linear-regression-and-bias-variance\n",
            "\n",
            "Use token from last successful submission (deepesh.1905g2@gmail.com)? (Y/n): n\n",
            "Login (email address): deepesh.1905g2@gmail.com\n",
            "Token: INtifudBjlVYcM53\n",
            "                                  Part Name |     Score | Feedback\n",
            "                                  --------- |     ----- | --------\n",
            "                           Validation Curve |  25 /  25 | Nice work!\n",
            "Regularized Linear Regression Cost Function |  25 /  25 | Nice work!\n",
            "     Regularized Linear Regression Gradient |  20 /  20 | Nice work!\n",
            "                             Learning Curve |  10 /  10 | Nice work!\n",
            "                 Polynomial Feature Mapping |   0 /  20 | Your answer is incorrect.\n",
            "                                  --------------------------------\n",
            "                                            |  80 / 100 |  \n",
            "\n"
          ]
        }
      ]
    },
    {
      "cell_type": "code",
      "source": [
        "def plotFit(polyFeatures, min_x, max_x, mu, sigma, theta, p):\n",
        "    \"\"\"\n",
        "    Plots a learned polynomial regression fit over an existing figure.\n",
        "    Also works with linear regression.\n",
        "    Plots the learned polynomial fit with power p and feature normalization (mu, sigma).\n",
        "\n",
        "    Parameters\n",
        "    ----------\n",
        "    polyFeatures : func\n",
        "        A function which generators polynomial features from a single feature.\n",
        "\n",
        "    min_x : float\n",
        "        The minimum value for the feature.\n",
        "\n",
        "    max_x : float\n",
        "        The maximum value for the feature.\n",
        "\n",
        "    mu : float\n",
        "        The mean feature value over the training dataset.\n",
        "\n",
        "    sigma : float\n",
        "        The feature standard deviation of the training dataset.\n",
        "\n",
        "    theta : array_like\n",
        "        The parameters for the trained polynomial linear regression.\n",
        "\n",
        "    p : int\n",
        "        The polynomial order.\n",
        "    \"\"\"\n",
        "    # We plot a range slightly bigger than the min and max values to get\n",
        "    # an idea of how the fit will vary outside the range of the data points\n",
        "    x = np.arange(min_x - 15, max_x + 25, 0.05).reshape(-1, 1)\n",
        "    # Map the X values\n",
        "    X_poly = polyFeatures(x, p)\n",
        "    X_poly -= mu\n",
        "    X_poly /= sigma\n",
        "\n",
        "    # Add ones\n",
        "    X_poly = np.concatenate([np.ones((x.shape[0], 1)), X_poly], axis=1)\n",
        "\n",
        "    # Plot\n",
        "    plt.plot(x, np.dot(X_poly, theta), '--', lw=2)\n"
      ],
      "metadata": {
        "id": "oO1C9juOUZYz"
      },
      "execution_count": null,
      "outputs": []
    },
    {
      "cell_type": "code",
      "source": [
        "# lambda_ = 0\n",
        "lambda_ = 2\n",
        "theta = trainLinearReg(linearRegCostFunction, X_poly, y, lambda_= lambda_, maxiter=55)\n",
        "# Plot training data and fit\n",
        "plt.plot(X, y, 'ro', ms=10, mew=1.5, mec='k')\n",
        "\n",
        "plotFit(polyFeatures, np.min(X), np.max(X), X_poly_mean, sigma, theta, p)\n",
        "\n",
        "plt.xlabel('Change in water level (x)')\n",
        "plt.ylabel('Water flowing out of the dam (y)')\n",
        "plt.title('Polynomial Regression Fit (lambda = %f)' % lambda_)\n",
        "plt.ylim([-20, 50])\n",
        "\n",
        "plt.figure()\n",
        "error_train, error_val = learningCurve(X_poly, y, X_poly_val, yval, lambda_)\n",
        "plt.plot(np.arange(1, 1+m), error_train, 'g-',np.arange(1, 1+m), error_val, 'b-')\n",
        "\n",
        "plt.title('Polynomial Regression Learning Curve (lambda = %f)' % lambda_)\n",
        "plt.xlabel('Number of training examples')\n",
        "plt.ylabel('Error')\n",
        "plt.axis([0, 13, 0, 100])\n",
        "plt.legend(['Train', 'Cross Validation'])\n",
        "\n",
        "print('Polynomial Regression (lambda = %f)\\n' % lambda_)\n",
        "print('# Training Examples\\tTrain Error\\tCross Validation Error')\n",
        "for i in range(m):\n",
        "    print('  \\t%d\\t\\t%f\\t%f' % (i+1, error_train[i], error_val[i]))"
      ],
      "metadata": {
        "colab": {
          "base_uri": "https://localhost:8080/",
          "height": 828
        },
        "id": "xneMRmSDSGCn",
        "outputId": "ef1e84e2-9254-4d3d-cd9e-69f34fcccfcf"
      },
      "execution_count": null,
      "outputs": [
        {
          "output_type": "stream",
          "name": "stdout",
          "text": [
            "Polynomial Regression (lambda = 2.000000)\n",
            "\n",
            "# Training Examples\tTrain Error\tCross Validation Error\n",
            "  \t1\t\t0.000000\t138.846777\n",
            "  \t2\t\t0.068940\t143.705171\n",
            "  \t3\t\t8.640989\t4.972055\n",
            "  \t4\t\t4.873706\t4.551465\n",
            "  \t5\t\t3.881406\t4.731446\n",
            "  \t6\t\t3.011585\t5.857765\n",
            "  \t7\t\t3.439132\t4.620617\n",
            "  \t8\t\t2.955671\t4.694400\n",
            "  \t9\t\t2.918171\t5.298960\n",
            "  \t10\t\t2.683946\t5.134705\n",
            "  \t11\t\t2.426178\t5.240697\n",
            "  \t12\t\t3.442291\t3.988415\n"
          ]
        },
        {
          "output_type": "display_data",
          "data": {
            "image/png": "[encoded data removed]",
            "text/plain": [
              "<Figure size 432x288 with 1 Axes>"
            ]
          },
          "metadata": {
            "needs_background": "light"
          }
        },
        {
          "output_type": "display_data",
          "data": {
            "image/png": "[encoded data removed]",
            "text/plain": [
              "<Figure size 432x288 with 1 Axes>"
            ]
          },
          "metadata": {
            "needs_background": "light"
          }
        }
      ]
    },
    {
      "cell_type": "code",
      "source": [
        "def validationCurve(X, y, Xval, yval):\n",
        "    # Selected values of lambda (you should not change this)\n",
        "    lambda_vec = [0, 0.001, 0.003, 0.01, 0.03, 0.1, 0.3, 1, 3, 4, 5, 6, 7,8, 9 ,10]\n",
        "\n",
        "    # You need to return these variables correctly.\n",
        "    error_train = np.zeros(len(lambda_vec))\n",
        "    error_val = np.zeros(len(lambda_vec))\n",
        "    for i in range(len(lambda_vec)):\n",
        "        theta_temp = trainLinearReg(linearRegCostFunction, X, y, lambda_=lambda_vec[i])\n",
        "        error_train[i], _ = linearRegCostFunction(X, y, theta=theta_temp, lambda_=lambda_vec[i])\n",
        "        error_val[i], _ = linearRegCostFunction(Xval, yval, theta=theta_temp, lambda_=lambda_vec[i])\n",
        "\n",
        "    return lambda_vec, error_train, error_val\n",
        "    lambda_vec = [0, 0.001, 0.003, 0.01, 0.03, 0.1, 0.3, 1, 3, 10]\n",
        "\n",
        "    for i in range(len(lambda_vec)):\n",
        "        lambda_try = lambda_vec[i]\n",
        "        theta_t = utils.trainLinearReg(linearRegCostFunction, X, y, lambda_ = lambda_try)\n",
        "        error_train[i], _ = linearRegCostFunction(X, y, theta_t, lambda_ = 0)\n",
        "        error_val[i], _ = linearRegCostFunction(Xval, yval, theta_t, lambda_ = 0)\n",
        "    return lambda_vec, error_train, error_val"
      ],
      "metadata": {
        "id": "K1ezBvMoWQss"
      },
      "execution_count": null,
      "outputs": []
    },
    {
      "cell_type": "code",
      "source": [
        "lambda_vec, error_train, error_val = validationCurve(X_poly, y, X_poly_val, yval)\n",
        "\n",
        "plt.plot(lambda_vec, error_train, 'g-', lambda_vec, error_val, 'b-', lw=2)\n",
        "plt.legend(['Train', 'Cross Validation'])\n",
        "plt.xlabel('lambda')\n",
        "plt.ylabel('Error')\n",
        "\n",
        "print('lambda\\t\\tTrain Error\\tValidation Error')\n",
        "for i in range(len(lambda_vec)):\n",
        "    print(' %f\\t%f\\t%f' % (lambda_vec[i], error_train[i], error_val[i]))"
      ],
      "metadata": {
        "colab": {
          "base_uri": "https://localhost:8080/",
          "height": 466
        },
        "id": "OtGHeieUXngh",
        "outputId": "fafe8aae-f47c-4e6f-eb33-b16ceb79fd05"
      },
      "execution_count": null,
      "outputs": [
        {
          "output_type": "stream",
          "name": "stdout",
          "text": [
            "lambda\t\tTrain Error\tValidation Error\n",
            " 0.000000\t0.031233\t40.509487\n",
            " 0.001000\t0.112997\t9.883135\n",
            " 0.003000\t0.170888\t16.327417\n",
            " 0.010000\t0.221495\t16.942143\n",
            " 0.030000\t0.281852\t12.829344\n",
            " 0.100000\t0.459317\t7.587073\n",
            " 0.300000\t0.921776\t4.636788\n",
            " 1.000000\t2.076200\t4.260600\n",
            " 3.000000\t4.901382\t3.822908\n",
            " 10.000000\t16.092273\t9.945554\n"
          ]
        },
        {
          "output_type": "display_data",
          "data": {
            "image/png": "[encoded data removed]",
            "text/plain": [
              "<Figure size 432x288 with 1 Axes>"
            ]
          },
          "metadata": {
            "needs_background": "light"
          }
        }
      ]
    },
    {
      "cell_type": "code",
      "source": [
        "grader[5] = validationCurve\n",
        "grader.grade()"
      ],
      "metadata": {
        "colab": {
          "base_uri": "https://localhost:8080/"
        },
        "id": "MgI6-tFAYpF7",
        "outputId": "c50d76e7-7028-4ad0-850f-970ea311764c"
      },
      "execution_count": null,
      "outputs": [
        {
          "output_type": "stream",
          "name": "stdout",
          "text": [
            "\n",
            "Submitting Solutions | Programming Exercise regularized-linear-regression-and-bias-variance\n",
            "\n",
            "Use token from last successful submission (deepesh.1905g2@gmail.com)? (Y/n): y\n",
            "                                  Part Name |     Score | Feedback\n",
            "                                  --------- |     ----- | --------\n",
            "                           Validation Curve |  25 /  25 | Nice work!\n",
            "Regularized Linear Regression Cost Function |  25 /  25 | Nice work!\n",
            "     Regularized Linear Regression Gradient |  20 /  20 | Nice work!\n",
            "                             Learning Curve |  10 /  10 | Nice work!\n",
            "                 Polynomial Feature Mapping |  20 /  20 | Nice work!\n",
            "                                  --------------------------------\n",
            "                                            | 100 / 100 |  \n",
            "\n"
          ]
        }
      ]
    }
  ]
}